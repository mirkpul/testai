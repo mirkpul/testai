{
 "cells": [
  {
   "cell_type": "code",
   "execution_count": 56,
   "metadata": {},
   "outputs": [
    {
     "name": "stdout",
     "output_type": "stream",
     "text": [
      "[[[1, 2, 3], [3, 4, 5], [5, 6, 7], [7, 8, 9], [9, 10, 11]], [[3, 4, 5], [5, 6, 7], [7, 8, 9], [9, 10, 11], [11, 12, 13]], [[5, 6, 7], [7, 8, 9], [9, 10, 11], [11, 12, 13], [13, 14, 16]], [[7, 8, 9], [9, 10, 11], [11, 12, 13], [13, 14, 16], [15, 16, 16]], [[9, 10, 11], [11, 12, 13], [13, 14, 16], [15, 16, 16], [17, 18, 19]], [[11, 12, 13], [13, 14, 16], [15, 16, 16], [17, 18, 19], [19, 20, 21]]]\n",
      "[11, 13, 16, 16, 19, 21]\n"
     ]
    }
   ],
   "source": [
    "import numpy as np\n",
    "features = [[1,2,3],[3,4,5],[5,6,7],[7,8,9],[9,10,11],[11,12,13],[13,14,16],[15,16,16],[17,18,19],[19,20,21]]\n",
    "\n",
    "features_reshaped = []\n",
    "labels = []\n",
    "\n",
    "window = 5\n",
    "#sliding window from the beginning to the end\n",
    "for i in range(0, len(features) - window +1):\n",
    "    #appending sub list of window size\n",
    "    features_reshaped.append(features[i:i + window])\n",
    "    #feeding labels with third features of the last window item. Optional\n",
    "    labels.append(features[i + window - 1][2])\n",
    "\n",
    "print(features_reshaped)\n",
    "print(labels)"
   ]
  },
  {
   "cell_type": "code",
   "execution_count": null,
   "metadata": {},
   "outputs": [],
   "source": []
  }
 ],
 "metadata": {
  "kernelspec": {
   "display_name": "Python 3",
   "language": "python",
   "name": "python3"
  },
  "language_info": {
   "codemirror_mode": {
    "name": "ipython",
    "version": 3
   },
   "file_extension": ".py",
   "mimetype": "text/x-python",
   "name": "python",
   "nbconvert_exporter": "python",
   "pygments_lexer": "ipython3",
   "version": "3.6.8"
  }
 },
 "nbformat": 4,
 "nbformat_minor": 2
}
