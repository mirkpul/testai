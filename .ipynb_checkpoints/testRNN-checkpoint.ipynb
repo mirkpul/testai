{
 "cells": [
  {
   "cell_type": "markdown",
   "metadata": {
    "deletable": true,
    "editable": true
   },
   "source": [
    "# Predicting stock with ANN and RNN"
   ]
  },
  {
   "cell_type": "code",
   "execution_count": 1,
   "metadata": {
    "collapsed": false,
    "deletable": true,
    "editable": true
   },
   "outputs": [
    {
     "data": {
      "text/html": [
       "<div>\n",
       "<style scoped>\n",
       "    .dataframe tbody tr th:only-of-type {\n",
       "        vertical-align: middle;\n",
       "    }\n",
       "\n",
       "    .dataframe tbody tr th {\n",
       "        vertical-align: top;\n",
       "    }\n",
       "\n",
       "    .dataframe thead th {\n",
       "        text-align: right;\n",
       "    }\n",
       "</style>\n",
       "<table border=\"1\" class=\"dataframe\">\n",
       "  <thead>\n",
       "    <tr style=\"text-align: right;\">\n",
       "      <th></th>\n",
       "      <th>date</th>\n",
       "      <th>close</th>\n",
       "      <th>volume</th>\n",
       "      <th>open</th>\n",
       "      <th>high</th>\n",
       "      <th>low</th>\n",
       "    </tr>\n",
       "  </thead>\n",
       "  <tbody>\n",
       "    <tr>\n",
       "      <th>1226</th>\n",
       "      <td>2014/03/27</td>\n",
       "      <td>558.46</td>\n",
       "      <td>13052.0</td>\n",
       "      <td>568.00</td>\n",
       "      <td>568.00</td>\n",
       "      <td>552.92</td>\n",
       "    </tr>\n",
       "    <tr>\n",
       "      <th>1225</th>\n",
       "      <td>2014/03/28</td>\n",
       "      <td>559.99</td>\n",
       "      <td>41003.0</td>\n",
       "      <td>561.20</td>\n",
       "      <td>566.43</td>\n",
       "      <td>558.67</td>\n",
       "    </tr>\n",
       "    <tr>\n",
       "      <th>1224</th>\n",
       "      <td>2014/03/31</td>\n",
       "      <td>556.97</td>\n",
       "      <td>10772.0</td>\n",
       "      <td>566.89</td>\n",
       "      <td>567.00</td>\n",
       "      <td>556.93</td>\n",
       "    </tr>\n",
       "    <tr>\n",
       "      <th>1223</th>\n",
       "      <td>2014/04/01</td>\n",
       "      <td>567.16</td>\n",
       "      <td>7932.0</td>\n",
       "      <td>558.71</td>\n",
       "      <td>568.45</td>\n",
       "      <td>558.71</td>\n",
       "    </tr>\n",
       "    <tr>\n",
       "      <th>1222</th>\n",
       "      <td>2014/04/02</td>\n",
       "      <td>567.00</td>\n",
       "      <td>146697.0</td>\n",
       "      <td>599.99</td>\n",
       "      <td>604.83</td>\n",
       "      <td>562.19</td>\n",
       "    </tr>\n",
       "    <tr>\n",
       "      <th>1221</th>\n",
       "      <td>2014/04/03</td>\n",
       "      <td>569.74</td>\n",
       "      <td>5080231.0</td>\n",
       "      <td>569.85</td>\n",
       "      <td>587.28</td>\n",
       "      <td>564.13</td>\n",
       "    </tr>\n",
       "    <tr>\n",
       "      <th>1220</th>\n",
       "      <td>2014/04/04</td>\n",
       "      <td>543.14</td>\n",
       "      <td>6350969.0</td>\n",
       "      <td>574.65</td>\n",
       "      <td>577.77</td>\n",
       "      <td>543.00</td>\n",
       "    </tr>\n",
       "    <tr>\n",
       "      <th>1219</th>\n",
       "      <td>2014/04/07</td>\n",
       "      <td>538.15</td>\n",
       "      <td>4364932.0</td>\n",
       "      <td>540.74</td>\n",
       "      <td>548.48</td>\n",
       "      <td>527.15</td>\n",
       "    </tr>\n",
       "    <tr>\n",
       "      <th>1218</th>\n",
       "      <td>2014/04/08</td>\n",
       "      <td>554.90</td>\n",
       "      <td>3141406.0</td>\n",
       "      <td>542.60</td>\n",
       "      <td>555.00</td>\n",
       "      <td>541.61</td>\n",
       "    </tr>\n",
       "    <tr>\n",
       "      <th>1217</th>\n",
       "      <td>2014/04/09</td>\n",
       "      <td>564.14</td>\n",
       "      <td>3321485.0</td>\n",
       "      <td>559.62</td>\n",
       "      <td>565.37</td>\n",
       "      <td>552.95</td>\n",
       "    </tr>\n",
       "  </tbody>\n",
       "</table>\n",
       "</div>"
      ],
      "text/plain": [
       "            date   close     volume    open    high     low\n",
       "1226  2014/03/27  558.46    13052.0  568.00  568.00  552.92\n",
       "1225  2014/03/28  559.99    41003.0  561.20  566.43  558.67\n",
       "1224  2014/03/31  556.97    10772.0  566.89  567.00  556.93\n",
       "1223  2014/04/01  567.16     7932.0  558.71  568.45  558.71\n",
       "1222  2014/04/02  567.00   146697.0  599.99  604.83  562.19\n",
       "1221  2014/04/03  569.74  5080231.0  569.85  587.28  564.13\n",
       "1220  2014/04/04  543.14  6350969.0  574.65  577.77  543.00\n",
       "1219  2014/04/07  538.15  4364932.0  540.74  548.48  527.15\n",
       "1218  2014/04/08  554.90  3141406.0  542.60  555.00  541.61\n",
       "1217  2014/04/09  564.14  3321485.0  559.62  565.37  552.95"
      ]
     },
     "execution_count": 1,
     "metadata": {},
     "output_type": "execute_result"
    }
   ],
   "source": [
    "import numpy as np\n",
    "import pandas as pd\n",
    "import math\n",
    "from sklearn import tree\n",
    "\n",
    "input_file = \"HistoricalQuotes.csv\"\n",
    "quote_data = pd.read_csv(input_file)\n",
    "quote_data = quote_data.sort_values(by = ['date'])\n",
    "quote_data.head(10)"
   ]
  },
  {
   "cell_type": "code",
   "execution_count": 2,
   "metadata": {
    "collapsed": false,
    "deletable": true,
    "editable": true
   },
   "outputs": [
    {
     "data": {
      "text/html": [
       "<div>\n",
       "<style scoped>\n",
       "    .dataframe tbody tr th:only-of-type {\n",
       "        vertical-align: middle;\n",
       "    }\n",
       "\n",
       "    .dataframe tbody tr th {\n",
       "        vertical-align: top;\n",
       "    }\n",
       "\n",
       "    .dataframe thead th {\n",
       "        text-align: right;\n",
       "    }\n",
       "</style>\n",
       "<table border=\"1\" class=\"dataframe\">\n",
       "  <thead>\n",
       "    <tr style=\"text-align: right;\">\n",
       "      <th></th>\n",
       "      <th>close</th>\n",
       "      <th>volume</th>\n",
       "      <th>open</th>\n",
       "      <th>high</th>\n",
       "      <th>low</th>\n",
       "    </tr>\n",
       "  </thead>\n",
       "  <tbody>\n",
       "    <tr>\n",
       "      <th>count</th>\n",
       "      <td>1227.000000</td>\n",
       "      <td>1.227000e+03</td>\n",
       "      <td>1227.000000</td>\n",
       "      <td>1227.000000</td>\n",
       "      <td>1227.000000</td>\n",
       "    </tr>\n",
       "    <tr>\n",
       "      <th>mean</th>\n",
       "      <td>804.150863</td>\n",
       "      <td>1.781878e+06</td>\n",
       "      <td>804.197464</td>\n",
       "      <td>811.045403</td>\n",
       "      <td>796.854098</td>\n",
       "    </tr>\n",
       "    <tr>\n",
       "      <th>std</th>\n",
       "      <td>216.653417</td>\n",
       "      <td>8.945503e+05</td>\n",
       "      <td>216.444512</td>\n",
       "      <td>218.836468</td>\n",
       "      <td>214.318771</td>\n",
       "    </tr>\n",
       "    <tr>\n",
       "      <th>min</th>\n",
       "      <td>492.550000</td>\n",
       "      <td>7.932000e+03</td>\n",
       "      <td>494.650000</td>\n",
       "      <td>495.976000</td>\n",
       "      <td>487.560000</td>\n",
       "    </tr>\n",
       "    <tr>\n",
       "      <th>25%</th>\n",
       "      <td>582.885000</td>\n",
       "      <td>1.253720e+06</td>\n",
       "      <td>583.900000</td>\n",
       "      <td>586.775000</td>\n",
       "      <td>580.195000</td>\n",
       "    </tr>\n",
       "    <tr>\n",
       "      <th>50%</th>\n",
       "      <td>768.880000</td>\n",
       "      <td>1.559791e+06</td>\n",
       "      <td>769.250000</td>\n",
       "      <td>774.000000</td>\n",
       "      <td>764.230000</td>\n",
       "    </tr>\n",
       "    <tr>\n",
       "      <th>75%</th>\n",
       "      <td>1016.585000</td>\n",
       "      <td>2.041602e+06</td>\n",
       "      <td>1015.260000</td>\n",
       "      <td>1028.603700</td>\n",
       "      <td>998.830000</td>\n",
       "    </tr>\n",
       "    <tr>\n",
       "      <th>max</th>\n",
       "      <td>1268.330000</td>\n",
       "      <td>1.115350e+07</td>\n",
       "      <td>1271.000000</td>\n",
       "      <td>1273.890000</td>\n",
       "      <td>1249.020000</td>\n",
       "    </tr>\n",
       "  </tbody>\n",
       "</table>\n",
       "</div>"
      ],
      "text/plain": [
       "             close        volume         open         high          low\n",
       "count  1227.000000  1.227000e+03  1227.000000  1227.000000  1227.000000\n",
       "mean    804.150863  1.781878e+06   804.197464   811.045403   796.854098\n",
       "std     216.653417  8.945503e+05   216.444512   218.836468   214.318771\n",
       "min     492.550000  7.932000e+03   494.650000   495.976000   487.560000\n",
       "25%     582.885000  1.253720e+06   583.900000   586.775000   580.195000\n",
       "50%     768.880000  1.559791e+06   769.250000   774.000000   764.230000\n",
       "75%    1016.585000  2.041602e+06  1015.260000  1028.603700   998.830000\n",
       "max    1268.330000  1.115350e+07  1271.000000  1273.890000  1249.020000"
      ]
     },
     "execution_count": 2,
     "metadata": {},
     "output_type": "execute_result"
    }
   ],
   "source": [
    "quote_data.describe()"
   ]
  },
  {
   "cell_type": "code",
   "execution_count": 3,
   "metadata": {
    "collapsed": false,
    "deletable": true,
    "editable": true
   },
   "outputs": [],
   "source": [
    "all_features = quote_data[['open', 'high', 'low', 'volume']].values\n",
    "\n",
    "from sklearn.preprocessing import MinMaxScaler\n",
    "scaler = MinMaxScaler()\n",
    "all_features_scaled = scaler.fit_transform(all_features)\n",
    "\n",
    "scaler_features = MinMaxScaler()\n",
    "labels = scaler.fit_transform(quote_data['close'].values.reshape(-1,1))"
   ]
  },
  {
   "cell_type": "code",
   "execution_count": 4,
   "metadata": {
    "collapsed": false,
    "deletable": true,
    "editable": true
   },
   "outputs": [
    {
     "name": "stdout",
     "output_type": "stream",
     "text": [
      "_________________________________________________________________\n",
      "Layer (type)                 Output Shape              Param #   \n",
      "=================================================================\n",
      "dense (Dense)                (None, 50)                250       \n",
      "_________________________________________________________________\n",
      "dense_1 (Dense)              (None, 1)                 51        \n",
      "=================================================================\n",
      "Total params: 301\n",
      "Trainable params: 301\n",
      "Non-trainable params: 0\n",
      "_________________________________________________________________\n"
     ]
    }
   ],
   "source": [
    "#let's start with a std NN\n",
    "from tensorflow.keras.preprocessing import sequence\n",
    "from tensorflow.keras.models import Sequential\n",
    "from tensorflow.keras.layers import Dense, Dropout\n",
    "from sklearn.model_selection import train_test_split\n",
    "\n",
    "# Split the data into train/test data sets with 25% reserved for testing\n",
    "X_train, X_test, y_train, y_test = train_test_split(all_features_scaled, labels, test_size=0.20, random_state=0, shuffle = False)\n",
    "\n",
    "model = Sequential()\n",
    "\n",
    "model.add(Dense(50, activation='relu', input_shape=(4,)))\n",
    "model.add(Dense(1, activation='linear'))\n",
    "\n",
    "model.summary()"
   ]
  },
  {
   "cell_type": "code",
   "execution_count": 7,
   "metadata": {
    "collapsed": false,
    "deletable": true,
    "editable": true
   },
   "outputs": [],
   "source": [
    "model.compile(loss='mse',\n",
    "              optimizer='adam',\n",
    "              metrics=['accuracy'])\n",
    "\n",
    "\n",
    "history = model.fit(X_train, y_train,\n",
    "                    batch_size=64,\n",
    "                    epochs=100,\n",
    "                    verbose=0,\n",
    "                    validation_data=(X_test, y_test))"
   ]
  },
  {
   "cell_type": "code",
   "execution_count": 8,
   "metadata": {
    "collapsed": false
   },
   "outputs": [
    {
     "data": {
      "image/png": "[encoded data removed]",
      "text/plain": [
       "<Figure size 432x288 with 1 Axes>"
      ]
     },
     "metadata": {
      "needs_background": "light"
     },
     "output_type": "display_data"
    },
    {
     "name": "stdout",
     "output_type": "stream",
     "text": [
      "981/981 [==============================] - 0s 59us/step\n",
      "Train Score: 0.00 MSE (0.01 RMSE)\n",
      "246/246 [==============================] - 0s 69us/step\n",
      "Test Score: 0.00 MSE (0.02 RMSE)\n"
     ]
    }
   ],
   "source": [
    "diff = []\n",
    "ratio = []\n",
    "pred = model.predict(X_test)\n",
    "for u in range(len(y_test)):\n",
    "    pr = pred[u][0]\n",
    "    ratio.append((y_test[u] / pr) - 1)\n",
    "    diff.append(abs(y_test[u] - pr))\n",
    "    \n",
    "# if using within a jupyter notebook\n",
    "%matplotlib inline \n",
    "\n",
    "import matplotlib\n",
    "import matplotlib.pyplot as plt\n",
    "\n",
    "plt.plot(pred, color='red', label='Prediction')\n",
    "plt.plot(y_test, color='blue', label='Ground Truth')\n",
    "plt.legend(loc='upper left')\n",
    "plt.show()\n",
    "\n",
    "#MSE Score\n",
    "trainScore = model.evaluate(X_train, y_train, verbose=1)\n",
    "print('Train Score: %.2f MSE (%.2f RMSE)' % (trainScore[0], math.sqrt(trainScore[0])))\n",
    "\n",
    "testScore = model.evaluate(X_test, y_test, verbose=1)\n",
    "print('Test Score: %.2f MSE (%.2f RMSE)' % (testScore[0], math.sqrt(testScore[0])))"
   ]
  },
  {
   "cell_type": "code",
   "execution_count": 12,
   "metadata": {
    "collapsed": false,
    "deletable": true,
    "editable": true
   },
   "outputs": [
    {
     "name": "stdout",
     "output_type": "stream",
     "text": [
      "(981, 4)\n",
      "(981, 1)\n",
      "(246, 4)\n",
      "(246, 1)\n",
      "(977, 5, 4)\n",
      "(977, 1)\n",
      "(977, 5, 4)\n",
      "(242, 1)\n"
     ]
    },
    {
     "data": {
      "text/plain": [
       "<tensorflow.python.keras.callbacks.History at 0x7fecfebe75c0>"
      ]
     },
     "execution_count": 12,
     "metadata": {},
     "output_type": "execute_result"
    }
   ],
   "source": [
    "#let's go for an RNN\n",
    "from tensorflow.keras.preprocessing import sequence\n",
    "from tensorflow.keras.models import Sequential\n",
    "from tensorflow.keras.layers import LSTM,Activation\n",
    "\n",
    "print(X_train.shape)\n",
    "print(y_train.shape)\n",
    "print(X_test.shape)\n",
    "print(y_test.shape)\n",
    "\n",
    "\n",
    "window = 5\n",
    "features_reshaped_train = []\n",
    "features_reshaped_test = []\n",
    "labels_reshaped_train = []\n",
    "labels_reshaped_test = []\n",
    "\n",
    "#resizing X_scaled_train sliding window from the beginning to the end\n",
    "for i in range(0, len(X_train) - window +1):\n",
    "    #appending sub list of window size\n",
    "    features_reshaped_train.append(X_train[i:i + window])\n",
    "\n",
    "#resizing X_scaled_test sliding window from the beginning to the end\n",
    "for i in range(0, len(X_test) - window +1):\n",
    "    #appending sub list of window size\n",
    "    features_reshaped_test.append(X_test[i:i + window])\n",
    "\n",
    "#resizing Y_scaled_train sliding window from the beginning to the end\n",
    "for i in range(0, len(y_train) - window + 1):\n",
    "    #appending sub list of window size\n",
    "    labels_reshaped_train.append(y_train[i + window - 1])\n",
    "\n",
    "#resizing Y_scaled_test sliding window from the beginning to the end\n",
    "for i in range(0, len(y_test) - window +1):\n",
    "    #appending sub list of window size\n",
    "    labels_reshaped_test.append(y_test[i + window - 1])\n",
    "    \n",
    "features_reshaped_train = np.array(features_reshaped_train)\n",
    "labels_reshaped_train = np.array(labels_reshaped_train)\n",
    "features_reshaped_test = np.array(features_reshaped_test)\n",
    "labels_reshaped_test = np.array(labels_reshaped_test)\n",
    "\n",
    "print(features_reshaped_train.shape)\n",
    "print(labels_reshaped_train.shape)\n",
    "print(features_reshaped_train.shape)\n",
    "print(labels_reshaped_test.shape)\n",
    "\n",
    "model = Sequential()\n",
    "model.add(LSTM(50, input_shape=(window, 4)))\n",
    "model.add(Dense(1))\n",
    "model.compile(loss='mse',optimizer='adam',metrics=['accuracy'])\n",
    "\n",
    "model.fit(\n",
    "    features_reshaped_train,\n",
    "    labels_reshaped_train,\n",
    "    batch_size=64,\n",
    "    epochs=100,\n",
    "    verbose=0,\n",
    "    validation_data = (features_reshaped_test,labels_reshaped_test))\n",
    "    #validation_split = 0.2)"
   ]
  },
  {
   "cell_type": "code",
   "execution_count": 13,
   "metadata": {
    "collapsed": false
   },
   "outputs": [
    {
     "data": {
      "image/png": "[encoded data removed]",
      "text/plain": [
       "<Figure size 432x288 with 1 Axes>"
      ]
     },
     "metadata": {
      "needs_background": "light"
     },
     "output_type": "display_data"
    },
    {
     "name": "stdout",
     "output_type": "stream",
     "text": [
      "977/977 [==============================] - 0s 107us/step\n",
      "Train Score: 0.00 MSE (0.01 RMSE)\n",
      "242/242 [==============================] - 0s 93us/step\n",
      "Test Score: 0.00 MSE (0.02 RMSE)\n"
     ]
    }
   ],
   "source": [
    "diff = []\n",
    "ratio = []\n",
    "pred = model.predict(features_reshaped_test)\n",
    "for u in range(len(labels_reshaped_test)):\n",
    "    pr = pred[u][0]\n",
    "    ratio.append((labels_reshaped_test[u] / pr) - 1)\n",
    "    diff.append(abs(labels_reshaped_test[u] - pr))\n",
    "\n",
    "# if using within a jupyter notebook\n",
    "\n",
    "%matplotlib inline \n",
    "\n",
    "import matplotlib\n",
    "import matplotlib.pyplot as plt\n",
    "\n",
    "plt.plot(pred, color='red', label='Prediction')\n",
    "plt.plot(labels_reshaped_test, color='blue', label='Ground Truth')\n",
    "plt.legend(loc='upper left')\n",
    "plt.show()\n",
    "\n",
    "#MSE Score\n",
    "trainScore = model.evaluate(features_reshaped_train, labels_reshaped_train, verbose=1)\n",
    "print('Train Score: %.2f MSE (%.2f RMSE)' % (trainScore[0], math.sqrt(trainScore[0])))\n",
    "\n",
    "testScore = model.evaluate(features_reshaped_test, labels_reshaped_test, verbose=1)\n",
    "print('Test Score: %.2f MSE (%.2f RMSE)' % (testScore[0], math.sqrt(testScore[0])))"
   ]
  },
  {
   "cell_type": "code",
   "execution_count": null,
   "metadata": {
    "collapsed": true,
    "deletable": true,
    "editable": true
   },
   "outputs": [],
   "source": []
  }
 ],
 "metadata": {
  "kernelspec": {
   "display_name": "Python 3",
   "language": "python",
   "name": "python3"
  },
  "language_info": {
   "codemirror_mode": {
    "name": "ipython",
    "version": 3
   },
   "file_extension": ".py",
   "mimetype": "text/x-python",
   "name": "python",
   "nbconvert_exporter": "python",
   "pygments_lexer": "ipython3",
   "version": "3.6.8"
  }
 },
 "nbformat": 4,
 "nbformat_minor": 2
}
